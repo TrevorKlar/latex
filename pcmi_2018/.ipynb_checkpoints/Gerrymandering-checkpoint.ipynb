{
 "cells": [
  {
   "cell_type": "markdown",
   "metadata": {},
   "source": [
    "# Gerrymandering\n",
    "## Jonathan Mattingly - Duke University\n",
    "\n",
    "https://sites.duke.edu/quantifyinggerrymandering\n",
    "\n",
    "Gerrymandering suggests *change* in outcome, so we need a way to measure the \"null\" outcome. \n",
    "\n",
    "Is gerrymandering about odd shapes? not necessarily."
   ]
  },
  {
   "cell_type": "markdown",
   "metadata": {},
   "source": [
    "What is the signature of gerrymandering? Because local grouping is important to account for, and we want local representation. \n",
    "\n",
    "Maybe we can do districing randomly, and use that as a baseline!"
   ]
  },
  {
   "cell_type": "markdown",
   "metadata": {},
   "source": [
    "redistricing standards:\n",
    "- Districts within 0.1% of equal population. \n",
    "- Disctricts shall be reasonably compact. \n",
    "- Contiguous, no splitting cities or counties. \n",
    "- Comply with voting rights act of 1965\n",
    "- Ignore: Incumbency, party affiliations, demographics"
   ]
  },
  {
   "cell_type": "markdown",
   "metadata": {},
   "source": [
    "A 13-color Potts model with an unusual energy. \n",
    "$$P(\\zeta)=\\frac{1}{Z}e^{-\\beta J(\\zeta)},$$\n",
    "Where $\\zeta$ is a district, and $Z$ is the energy of the redistricting plan. "
   ]
  },
  {
   "cell_type": "markdown",
   "metadata": {},
   "source": []
  }
 ],
 "metadata": {
  "anaconda-cloud": {},
  "kernelspec": {
   "display_name": "Python [conda root]",
   "language": "python",
   "name": "conda-root-py"
  },
  "language_info": {
   "codemirror_mode": {
    "name": "ipython",
    "version": 2
   },
   "file_extension": ".py",
   "mimetype": "text/x-python",
   "name": "python",
   "nbconvert_exporter": "python",
   "pygments_lexer": "ipython2",
   "version": "2.7.12"
  }
 },
 "nbformat": 4,
 "nbformat_minor": 1
}
